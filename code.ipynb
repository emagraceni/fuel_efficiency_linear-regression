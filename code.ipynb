import pandas as pd
import numpy as np
import matplotlib.pyplot as plt
import seaborn as sns


from google.colab import files                          #import dataset
uploaded=files.upload()

  dataSet="Automobile_data.csv"                         #read data set and save it to variable df
df = pd.read_csv(dataSet)

  df.head()                                             #view some of the data 
  print(df.isnull().sum())                              #check for null values

  selected_columns = ['highway-mpg','num-of-cylinders','fuel-system','horsepower','curb-weight','stroke','engine-type','make']    #select only the features to be analyzed
  subset_df=df[selected_columns]                         #create a subset of the dataset which has only the columns we are interested in
  
subset_df.head()                                         #view some of the data to make sure it looks normal
  subset_dsubset_df = subset_df.copy()                   #copy dataset because otherwise it gives warnings when changing the data types later
subset_df.replace('?', np.nan, inplace=True)              #replace question marks with nan
num_of_cylinders_mapping = {'four': 4, 'six': 6, 'five': 5, 'eight': 8, 'two': 2, 'twelve': 12, 'three': 3}  #create a dictionary to turn word representations to number
subset_df['num-of-cylinders'] = subset_df['num-of-cylinders'].map(num_of_cylinders_mapping)                   #turn word representations to number
subset_df.loc[:, ['horsepower','curb-weight','stroke']] = (subset_df[['horsepower','curb-weight','stroke']]).astype(float)  #turn the other data that is in object format to floats
  subset_df.info() #check data types
  print(df.isnull().sum())
